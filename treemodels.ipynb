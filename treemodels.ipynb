{
 "cells": [
  {
   "cell_type": "markdown",
   "metadata": {},
   "source": [
    "# Training and Evaluation of Tree Models on SF Incident Report Data"
   ]
  },
  {
   "cell_type": "markdown",
   "metadata": {},
   "source": [
    "## Imports"
   ]
  },
  {
   "cell_type": "code",
   "execution_count": 1,
   "metadata": {},
   "outputs": [],
   "source": [
    "import pandas as pd\n",
    "import matplotlib.pyplot as plt\n",
    "import numpy as np\n",
    "\n",
    "from sklearn.model_selection import train_test_split\n",
    "from sklearn.preprocessing import OrdinalEncoder, LabelEncoder\n",
    "\n",
    "from sklearn.tree import DecisionTreeClassifier\n",
    "from sklearn.metrics import accuracy_score\n",
    "from sklearn.ensemble import RandomForestClassifier\n",
    "\n",
    "import xgboost as xgb"
   ]
  },
  {
   "cell_type": "markdown",
   "metadata": {},
   "source": [
    "## Experiments\n",
    "Start off with initial training of target models on 80/20 train test split to see initial performance. Then move on to OOB CV and fine-tuning."
   ]
  },
  {
   "cell_type": "markdown",
   "metadata": {},
   "source": [
    "### Decision Trees\n",
    "DT and RF don't handle categorical's natively. Train these initial models on non-normalized, ordinal encoding dataset. Further consideration of encodings can be treated later as a fine-tuning parameter. "
   ]
  },
  {
   "cell_type": "code",
   "execution_count": 2,
   "metadata": {},
   "outputs": [
    {
     "data": {
      "text/html": [
       "<div>\n",
       "<style scoped>\n",
       "    .dataframe tbody tr th:only-of-type {\n",
       "        vertical-align: middle;\n",
       "    }\n",
       "\n",
       "    .dataframe tbody tr th {\n",
       "        vertical-align: top;\n",
       "    }\n",
       "\n",
       "    .dataframe thead th {\n",
       "        text-align: right;\n",
       "    }\n",
       "</style>\n",
       "<table border=\"1\" class=\"dataframe\">\n",
       "  <thead>\n",
       "    <tr style=\"text-align: right;\">\n",
       "      <th></th>\n",
       "      <th>year</th>\n",
       "      <th>month_cont</th>\n",
       "      <th>day</th>\n",
       "      <th>time</th>\n",
       "      <th>lat</th>\n",
       "      <th>long</th>\n",
       "      <th>a_neigh</th>\n",
       "      <th>neigh</th>\n",
       "      <th>intsct</th>\n",
       "      <th>pd</th>\n",
       "      <th>sd</th>\n",
       "      <th>sd_2012</th>\n",
       "      <th>csd</th>\n",
       "      <th>cpd</th>\n",
       "      <th>cat</th>\n",
       "    </tr>\n",
       "  </thead>\n",
       "  <tbody>\n",
       "    <tr>\n",
       "      <th>0</th>\n",
       "      <td>2023</td>\n",
       "      <td>3.52</td>\n",
       "      <td>4.0</td>\n",
       "      <td>17.50</td>\n",
       "      <td>37.762290</td>\n",
       "      <td>-122.401324</td>\n",
       "      <td>28.0</td>\n",
       "      <td>54.0</td>\n",
       "      <td>712.0</td>\n",
       "      <td>0.0</td>\n",
       "      <td>10.0</td>\n",
       "      <td>10.0</td>\n",
       "      <td>9.0</td>\n",
       "      <td>2.0</td>\n",
       "      <td>Assault</td>\n",
       "    </tr>\n",
       "    <tr>\n",
       "      <th>1</th>\n",
       "      <td>2021</td>\n",
       "      <td>7.23</td>\n",
       "      <td>6.0</td>\n",
       "      <td>8.30</td>\n",
       "      <td>37.753837</td>\n",
       "      <td>-122.418594</td>\n",
       "      <td>18.0</td>\n",
       "      <td>53.0</td>\n",
       "      <td>1102.0</td>\n",
       "      <td>3.0</td>\n",
       "      <td>9.0</td>\n",
       "      <td>9.0</td>\n",
       "      <td>2.0</td>\n",
       "      <td>3.0</td>\n",
       "      <td>Assault</td>\n",
       "    </tr>\n",
       "    <tr>\n",
       "      <th>2</th>\n",
       "      <td>2021</td>\n",
       "      <td>6.13</td>\n",
       "      <td>0.0</td>\n",
       "      <td>9.67</td>\n",
       "      <td>37.785893</td>\n",
       "      <td>-122.419739</td>\n",
       "      <td>35.0</td>\n",
       "      <td>20.0</td>\n",
       "      <td>5178.0</td>\n",
       "      <td>4.0</td>\n",
       "      <td>5.0</td>\n",
       "      <td>6.0</td>\n",
       "      <td>10.0</td>\n",
       "      <td>4.0</td>\n",
       "      <td>Assault</td>\n",
       "    </tr>\n",
       "    <tr>\n",
       "      <th>3</th>\n",
       "      <td>2021</td>\n",
       "      <td>7.39</td>\n",
       "      <td>1.0</td>\n",
       "      <td>12.33</td>\n",
       "      <td>37.783214</td>\n",
       "      <td>-122.410765</td>\n",
       "      <td>35.0</td>\n",
       "      <td>20.0</td>\n",
       "      <td>9111.0</td>\n",
       "      <td>10.0</td>\n",
       "      <td>5.0</td>\n",
       "      <td>6.0</td>\n",
       "      <td>10.0</td>\n",
       "      <td>5.0</td>\n",
       "      <td>Disorderly Conduct</td>\n",
       "    </tr>\n",
       "    <tr>\n",
       "      <th>4</th>\n",
       "      <td>2019</td>\n",
       "      <td>6.37</td>\n",
       "      <td>5.0</td>\n",
       "      <td>16.50</td>\n",
       "      <td>37.775953</td>\n",
       "      <td>-122.408846</td>\n",
       "      <td>33.0</td>\n",
       "      <td>32.0</td>\n",
       "      <td>5583.0</td>\n",
       "      <td>8.0</td>\n",
       "      <td>6.0</td>\n",
       "      <td>6.0</td>\n",
       "      <td>10.0</td>\n",
       "      <td>1.0</td>\n",
       "      <td>Sex Offense</td>\n",
       "    </tr>\n",
       "  </tbody>\n",
       "</table>\n",
       "</div>"
      ],
      "text/plain": [
       "   year  month_cont  day   time        lat        long  a_neigh  neigh  \\\n",
       "0  2023        3.52  4.0  17.50  37.762290 -122.401324     28.0   54.0   \n",
       "1  2021        7.23  6.0   8.30  37.753837 -122.418594     18.0   53.0   \n",
       "2  2021        6.13  0.0   9.67  37.785893 -122.419739     35.0   20.0   \n",
       "3  2021        7.39  1.0  12.33  37.783214 -122.410765     35.0   20.0   \n",
       "4  2019        6.37  5.0  16.50  37.775953 -122.408846     33.0   32.0   \n",
       "\n",
       "   intsct    pd    sd  sd_2012   csd  cpd                 cat  \n",
       "0   712.0   0.0  10.0     10.0   9.0  2.0             Assault  \n",
       "1  1102.0   3.0   9.0      9.0   2.0  3.0             Assault  \n",
       "2  5178.0   4.0   5.0      6.0  10.0  4.0             Assault  \n",
       "3  9111.0  10.0   5.0      6.0  10.0  5.0  Disorderly Conduct  \n",
       "4  5583.0   8.0   6.0      6.0  10.0  1.0         Sex Offense  "
      ]
     },
     "metadata": {},
     "output_type": "display_data"
    }
   ],
   "source": [
    "treedata = pd.read_csv('tree_dataset.csv', index_col=0)\n",
    "#display(treedata.head())\n",
    "\n",
    "ord_enc = OrdinalEncoder()\n",
    "cat_cols = ['day','a_neigh','intsct','pd'] # neigh alr encoded\n",
    "treedata_ordinal = treedata.copy()\n",
    "treedata_ordinal[cat_cols] = ord_enc.fit_transform(treedata_ordinal[cat_cols])\n",
    "display(treedata_ordinal.head())\n"
   ]
  },
  {
   "cell_type": "code",
   "execution_count": null,
   "metadata": {},
   "outputs": [
    {
     "name": "stdout",
     "output_type": "stream",
     "text": [
      "Train size: 489844, Test size: 122462\n",
      "Accuracy: 0.8042642147295874\n"
     ]
    }
   ],
   "source": [
    "# get train test split\n",
    "train, test = train_test_split(treedata_ordinal, test_size=0.2, random_state=42)\n",
    "print(f'Train size: {len(train)}, Test size: {len(test)}')\n",
    "\n",
    "trainX = train.drop('cat', axis=1)\n",
    "trainY = train['cat']\n",
    "testX = train.drop('cat', axis=1)\n",
    "testY = train['cat']\n",
    "\n",
    "model = DecisionTreeClassifier(random_state=42, max_depth=25) # also 94% at min_samples_leaf = 3\n",
    "model.fit(trainX, trainY)\n",
    "\n",
    "pred = model.predict(testX)\n",
    "score = accuracy_score(testY, pred)\n",
    "print(f'Accuracy: {score}')"
   ]
  },
  {
   "cell_type": "markdown",
   "metadata": {},
   "source": [
    "### Random Forests"
   ]
  },
  {
   "cell_type": "code",
   "execution_count": 29,
   "metadata": {},
   "outputs": [
    {
     "name": "stdout",
     "output_type": "stream",
     "text": [
      "Accuracy: 0.9430083863434073\n"
     ]
    }
   ],
   "source": [
    "model = RandomForestClassifier(random_state=42, n_estimators=100)\n",
    "model.fit(trainX, trainY)\n",
    "\n",
    "pred = model.predict(testX)\n",
    "score = accuracy_score(testY, pred)\n",
    "print(f'Accuracy: {score}')"
   ]
  },
  {
   "cell_type": "markdown",
   "metadata": {},
   "source": [
    "### XGBoost"
   ]
  },
  {
   "cell_type": "code",
   "execution_count": 3,
   "metadata": {},
   "outputs": [
    {
     "name": "stdout",
     "output_type": "stream",
     "text": [
      "Accuracy: 0.45670493704169457\n"
     ]
    }
   ],
   "source": [
    "treedata[cat_cols] = treedata[cat_cols].astype('category')\n",
    "X = treedata.drop('cat', axis=1)\n",
    "Y = treedata['cat']\n",
    "\n",
    "label_enc = LabelEncoder()\n",
    "Y_enc = label_enc.fit_transform(Y)\n",
    "\n",
    "trainX, testX, trainY, testY = train_test_split(X, Y_enc, test_size=0.2, random_state=42)\n",
    "\n",
    "model = xgb.XGBClassifier(tree_method='hist', enable_categorical=True, eval_metric='logloss',\n",
    "                          n_estimators=80, max_depth=15, verbosity=1)\n",
    "model.fit(trainX, trainY)\n",
    "\n",
    "pred = model.predict(testX)\n",
    "score = accuracy_score(testY, pred)\n",
    "print(f'Accuracy: {score}')"
   ]
  },
  {
   "cell_type": "markdown",
   "metadata": {},
   "source": [
    "### LightGBM"
   ]
  },
  {
   "cell_type": "markdown",
   "metadata": {},
   "source": [
    "### CatBoost"
   ]
  },
  {
   "cell_type": "markdown",
   "metadata": {},
   "source": [
    "## Fine-tuning"
   ]
  },
  {
   "cell_type": "markdown",
   "metadata": {},
   "source": []
  }
 ],
 "metadata": {
  "kernelspec": {
   "display_name": "kernelML",
   "language": "python",
   "name": "python3"
  },
  "language_info": {
   "codemirror_mode": {
    "name": "ipython",
    "version": 3
   },
   "file_extension": ".py",
   "mimetype": "text/x-python",
   "name": "python",
   "nbconvert_exporter": "python",
   "pygments_lexer": "ipython3",
   "version": "3.9.19"
  }
 },
 "nbformat": 4,
 "nbformat_minor": 2
}
